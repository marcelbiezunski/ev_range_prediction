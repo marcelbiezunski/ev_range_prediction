{
 "cells": [
  {
   "cell_type": "markdown",
   "id": "00bef541",
   "metadata": {
    "_cell_guid": "b1076dfc-b9ad-4769-8c92-a6c4dae69d19",
    "_uuid": "8f2839f25d086af736a60e9eeb907d3b93b6e0e5",
    "papermill": {
     "duration": 0.006591,
     "end_time": "2025-08-19T20:56:40.598329",
     "exception": false,
     "start_time": "2025-08-19T20:56:40.591738",
     "status": "completed"
    },
    "tags": []
   },
   "source": [
    "### 📢 Don't forget to upvote if you enjoy my work :)\n",
    "# EV Dataset 2025: End-to-End EDA and Predictive Modeling\n",
    "## Introduction\n",
    "The global shift toward sustainable mobility has made electric vehicles (EVs) one of the fastest-growing segments in the automotive industry. Battery technology, charging infrastructure, safety, and affordability all influence how quickly EVs are adopted across different markets.\n",
    "\n",
    "This dataset provides 3,000+ synthetic EV records that cover technical specifications, pricing, safety, and sales figures across multiple manufacturers and years. Each record represents a unique vehicle model or trim, including both battery-electric vehicles (BEVs) and plug-in hybrids (PHEVs).\n",
    "\n",
    "In this notebook, we will explore the question: **How well can we estimate real-world performance from battery capacity and chemistry?** EV range is one of the most critical considerations for buyers. We will test whether specifications such as battery capacity, battery type, and manufacturer can reliably predict range.\n",
    "\n",
    "Along the way, we will also perform an exploratory data analysis (EDA) to better understand the dataset, engineer meaningful features such as efficiency and charge speed, and use machine learning models (linear models, tree-based methods, and quantile regression) to answer these questions.\n",
    "\n",
    "Our ultimate goal is to combine insightful EDA with predictive modeling to better understand the EV landscape and highlight the factors shaping adoption, performance, and pricing."
   ]
  },
  {
   "cell_type": "markdown",
   "id": "f179e268",
   "metadata": {
    "papermill": {
     "duration": 0.004957,
     "end_time": "2025-08-19T20:56:40.608934",
     "exception": false,
     "start_time": "2025-08-19T20:56:40.603977",
     "status": "completed"
    },
    "tags": []
   },
   "source": [
    "# Data Overview\n",
    "Before diving into analysis, let’s take a closer look at the dataset. It contains 3,000+ vehicle records with a mix of numerical, categorical, and derived attributes. Each row represents a unique vehicle model or trim, identified by Vehicle_ID.\n",
    "Key Columns:\n",
    "- Manufacturer, Model, Year - Brand, variant, and release year.\n",
    "- Battery_Type, Battery_Capacity_kWh - Chemistry and energy storage size.\n",
    "- Range_km - Claimed driving range per full charge.\n",
    "- Charging_Type, Charge_Time_hr - Charging interface and estimated time.\n",
    "- Price_USD - Indicative vehicle price.\n",
    "- Country_of_Manufacture - Origin of production.\n",
    "- Autonomous_Level - Automation capability (0–5).\n",
    "- CO2_Emissions_g_per_km - Tailpipe emissions (BEVs typically = 0).\n",
    "- Safety_Rating - Safety performance score.\n",
    "- Units_Sold_2024 - Recorded sales for the year 2024.\n",
    "- Warranty_Years - Warranty duration.\n",
    "\n",
    "Initial Checks:\n",
    "- Shape: The dataset has ~3,000 rows and ~16 columns.\n",
    "- Data Types: A mix of integers, floats, and categorical values.\n",
    "- Missing Values: Some fields (e.g., emissions, safety ratings, autonomy levels) are incomplete and will require imputation or careful handling.\n",
    "- Inconsistent Labels: Charging types and battery types are heterogeneous (e.g., “CCS” vs. “DCFC”, “Lithium-ion” vs. “Li-ion”). Standardization will improve analysis.\n",
    "- Units: Values are expressed in different scales (kWh, km, hr, USD, g/km). Feature scaling may be required for modeling.\n",
    "\n",
    "The analysis is centered on predicting Range_km, which represents the real-world driving range of electric vehicles. This variable serves as the primary performance indicator and the focal point of all subsequent modeling steps."
   ]
  },
  {
   "cell_type": "code",
   "execution_count": 1,
   "id": "9ef5a763",
   "metadata": {
    "execution": {
     "iopub.execute_input": "2025-08-19T20:56:40.621258Z",
     "iopub.status.busy": "2025-08-19T20:56:40.620310Z",
     "iopub.status.idle": "2025-08-19T20:56:44.983920Z",
     "shell.execute_reply": "2025-08-19T20:56:44.982863Z"
    },
    "papermill": {
     "duration": 4.371496,
     "end_time": "2025-08-19T20:56:44.985580",
     "exception": false,
     "start_time": "2025-08-19T20:56:40.614084",
     "status": "completed"
    },
    "tags": []
   },
   "outputs": [
    {
     "name": "stderr",
     "output_type": "stream",
     "text": [
      "/usr/local/lib/python3.11/dist-packages/pandas/io/formats/format.py:1458: RuntimeWarning: invalid value encountered in greater\n",
      "  has_large_values = (abs_vals > 1e6).any()\n",
      "/usr/local/lib/python3.11/dist-packages/pandas/io/formats/format.py:1459: RuntimeWarning: invalid value encountered in less\n",
      "  has_small_values = ((abs_vals < 10 ** (-self.digits)) & (abs_vals > 0)).any()\n",
      "/usr/local/lib/python3.11/dist-packages/pandas/io/formats/format.py:1459: RuntimeWarning: invalid value encountered in greater\n",
      "  has_small_values = ((abs_vals < 10 ** (-self.digits)) & (abs_vals > 0)).any()\n"
     ]
    },
    {
     "data": {
      "text/html": [
       "<div>\n",
       "<style scoped>\n",
       "    .dataframe tbody tr th:only-of-type {\n",
       "        vertical-align: middle;\n",
       "    }\n",
       "\n",
       "    .dataframe tbody tr th {\n",
       "        vertical-align: top;\n",
       "    }\n",
       "\n",
       "    .dataframe thead th {\n",
       "        text-align: right;\n",
       "    }\n",
       "</style>\n",
       "<table border=\"1\" class=\"dataframe\">\n",
       "  <thead>\n",
       "    <tr style=\"text-align: right;\">\n",
       "      <th></th>\n",
       "      <th>Manufacturer</th>\n",
       "      <th>Model</th>\n",
       "      <th>Year</th>\n",
       "      <th>Battery_Type</th>\n",
       "      <th>Battery_Capacity_kWh</th>\n",
       "      <th>Range_km</th>\n",
       "      <th>Charging_Type</th>\n",
       "      <th>Charge_Time_hr</th>\n",
       "      <th>Price_USD</th>\n",
       "      <th>Color</th>\n",
       "      <th>Country_of_Manufacture</th>\n",
       "      <th>Autonomous_Level</th>\n",
       "      <th>CO2_Emissions_g_per_km</th>\n",
       "      <th>Safety_Rating</th>\n",
       "      <th>Units_Sold_2024</th>\n",
       "      <th>Warranty_Years</th>\n",
       "    </tr>\n",
       "    <tr>\n",
       "      <th>Vehicle_ID</th>\n",
       "      <th></th>\n",
       "      <th></th>\n",
       "      <th></th>\n",
       "      <th></th>\n",
       "      <th></th>\n",
       "      <th></th>\n",
       "      <th></th>\n",
       "      <th></th>\n",
       "      <th></th>\n",
       "      <th></th>\n",
       "      <th></th>\n",
       "      <th></th>\n",
       "      <th></th>\n",
       "      <th></th>\n",
       "      <th></th>\n",
       "      <th></th>\n",
       "    </tr>\n",
       "  </thead>\n",
       "  <tbody>\n",
       "    <tr>\n",
       "      <th>1</th>\n",
       "      <td>Acura</td>\n",
       "      <td>ZDX (with GM Ultium)</td>\n",
       "      <td>2015</td>\n",
       "      <td>Lithium-titanate</td>\n",
       "      <td>55.8</td>\n",
       "      <td>214</td>\n",
       "      <td>CHAdeMO</td>\n",
       "      <td>9.0</td>\n",
       "      <td>111203.94</td>\n",
       "      <td>Matte White</td>\n",
       "      <td>UK</td>\n",
       "      <td>0.0</td>\n",
       "      <td>NaN</td>\n",
       "      <td>5.0</td>\n",
       "      <td>19726</td>\n",
       "      <td>3</td>\n",
       "    </tr>\n",
       "    <tr>\n",
       "      <th>2</th>\n",
       "      <td>Lamborghini</td>\n",
       "      <td>Revuelto (PHEV)</td>\n",
       "      <td>2025</td>\n",
       "      <td>Lithium-titanate</td>\n",
       "      <td>90.8</td>\n",
       "      <td>212</td>\n",
       "      <td>Vehicle-to-Home (V2H)</td>\n",
       "      <td>7.3</td>\n",
       "      <td>127131.65</td>\n",
       "      <td>White</td>\n",
       "      <td>Netherlands</td>\n",
       "      <td>2.0</td>\n",
       "      <td>0.0</td>\n",
       "      <td>4.0</td>\n",
       "      <td>3349</td>\n",
       "      <td>3</td>\n",
       "    </tr>\n",
       "    <tr>\n",
       "      <th>3</th>\n",
       "      <td>NIO</td>\n",
       "      <td>ET7</td>\n",
       "      <td>2020</td>\n",
       "      <td>Calcium-ion</td>\n",
       "      <td>64.7</td>\n",
       "      <td>235</td>\n",
       "      <td>Level 2 Charging</td>\n",
       "      <td>8.9</td>\n",
       "      <td>94347.37</td>\n",
       "      <td>Beige</td>\n",
       "      <td>UK</td>\n",
       "      <td>5.0</td>\n",
       "      <td>0.0</td>\n",
       "      <td>5.0</td>\n",
       "      <td>6300</td>\n",
       "      <td>5</td>\n",
       "    </tr>\n",
       "    <tr>\n",
       "      <th>4</th>\n",
       "      <td>Audi</td>\n",
       "      <td>e-tron</td>\n",
       "      <td>2025</td>\n",
       "      <td>Lithium-iron phosphate</td>\n",
       "      <td>120.5</td>\n",
       "      <td>140</td>\n",
       "      <td>Ultra-Fast Charging (350 kW+)</td>\n",
       "      <td>10.5</td>\n",
       "      <td>75615.15</td>\n",
       "      <td>Sunset Orange</td>\n",
       "      <td>Argentina</td>\n",
       "      <td>2.0</td>\n",
       "      <td>0.0</td>\n",
       "      <td>5.0</td>\n",
       "      <td>2339</td>\n",
       "      <td>5</td>\n",
       "    </tr>\n",
       "    <tr>\n",
       "      <th>5</th>\n",
       "      <td>Acura</td>\n",
       "      <td>ZDX (with GM Ultium)</td>\n",
       "      <td>2023</td>\n",
       "      <td>Lithium-titanate</td>\n",
       "      <td>51.8</td>\n",
       "      <td>336</td>\n",
       "      <td>Plug-in Hydrogen Refueling</td>\n",
       "      <td>3.6</td>\n",
       "      <td>141046.94</td>\n",
       "      <td>Ice Silver</td>\n",
       "      <td>United Arab Emirates</td>\n",
       "      <td>2.0</td>\n",
       "      <td>0.0</td>\n",
       "      <td>3.0</td>\n",
       "      <td>1051</td>\n",
       "      <td>4</td>\n",
       "    </tr>\n",
       "  </tbody>\n",
       "</table>\n",
       "</div>"
      ],
      "text/plain": [
       "           Manufacturer                 Model  Year            Battery_Type  \\\n",
       "Vehicle_ID                                                                    \n",
       "1                 Acura  ZDX (with GM Ultium)  2015        Lithium-titanate   \n",
       "2           Lamborghini       Revuelto (PHEV)  2025        Lithium-titanate   \n",
       "3                   NIO                   ET7  2020             Calcium-ion   \n",
       "4                  Audi                e-tron  2025  Lithium-iron phosphate   \n",
       "5                 Acura  ZDX (with GM Ultium)  2023        Lithium-titanate   \n",
       "\n",
       "            Battery_Capacity_kWh  Range_km                  Charging_Type  \\\n",
       "Vehicle_ID                                                                  \n",
       "1                           55.8       214                        CHAdeMO   \n",
       "2                           90.8       212          Vehicle-to-Home (V2H)   \n",
       "3                           64.7       235               Level 2 Charging   \n",
       "4                          120.5       140  Ultra-Fast Charging (350 kW+)   \n",
       "5                           51.8       336     Plug-in Hydrogen Refueling   \n",
       "\n",
       "            Charge_Time_hr  Price_USD          Color Country_of_Manufacture  \\\n",
       "Vehicle_ID                                                                    \n",
       "1                      9.0  111203.94    Matte White                     UK   \n",
       "2                      7.3  127131.65          White            Netherlands   \n",
       "3                      8.9   94347.37          Beige                     UK   \n",
       "4                     10.5   75615.15  Sunset Orange              Argentina   \n",
       "5                      3.6  141046.94     Ice Silver   United Arab Emirates   \n",
       "\n",
       "            Autonomous_Level  CO2_Emissions_g_per_km  Safety_Rating  \\\n",
       "Vehicle_ID                                                            \n",
       "1                        0.0                     NaN            5.0   \n",
       "2                        2.0                     0.0            4.0   \n",
       "3                        5.0                     0.0            5.0   \n",
       "4                        2.0                     0.0            5.0   \n",
       "5                        2.0                     0.0            3.0   \n",
       "\n",
       "            Units_Sold_2024  Warranty_Years  \n",
       "Vehicle_ID                                   \n",
       "1                     19726               3  \n",
       "2                      3349               3  \n",
       "3                      6300               5  \n",
       "4                      2339               5  \n",
       "5                      1051               4  "
      ]
     },
     "execution_count": 1,
     "metadata": {},
     "output_type": "execute_result"
    }
   ],
   "source": [
    "import pandas as pd\n",
    "import numpy as np\n",
    "import matplotlib.pyplot as plt\n",
    "import seaborn as sns\n",
    "import plotly.express as px\n",
    "\n",
    "pd.set_option(\"display.max_columns\", None)\n",
    "\n",
    "dataset_url = '/kaggle/input/ev-electrical-vehicles-dataset-3k-records-2025/electric_vehicles_dataset.csv'\n",
    "df = pd.read_csv(dataset_url, index_col='Vehicle_ID')\n",
    "df.head()"
   ]
  },
  {
   "cell_type": "code",
   "execution_count": 2,
   "id": "22ab993c",
   "metadata": {
    "execution": {
     "iopub.execute_input": "2025-08-19T20:56:44.998948Z",
     "iopub.status.busy": "2025-08-19T20:56:44.998633Z",
     "iopub.status.idle": "2025-08-19T20:56:45.018693Z",
     "shell.execute_reply": "2025-08-19T20:56:45.017475Z"
    },
    "papermill": {
     "duration": 0.028796,
     "end_time": "2025-08-19T20:56:45.020463",
     "exception": false,
     "start_time": "2025-08-19T20:56:44.991667",
     "status": "completed"
    },
    "tags": []
   },
   "outputs": [
    {
     "name": "stdout",
     "output_type": "stream",
     "text": [
      "<class 'pandas.core.frame.DataFrame'>\n",
      "Index: 3022 entries, 1 to 3022\n",
      "Data columns (total 16 columns):\n",
      " #   Column                  Non-Null Count  Dtype  \n",
      "---  ------                  --------------  -----  \n",
      " 0   Manufacturer            3022 non-null   object \n",
      " 1   Model                   3022 non-null   object \n",
      " 2   Year                    3022 non-null   int64  \n",
      " 3   Battery_Type            3022 non-null   object \n",
      " 4   Battery_Capacity_kWh    3022 non-null   float64\n",
      " 5   Range_km                3022 non-null   int64  \n",
      " 6   Charging_Type           3022 non-null   object \n",
      " 7   Charge_Time_hr          3022 non-null   float64\n",
      " 8   Price_USD               3022 non-null   float64\n",
      " 9   Color                   3022 non-null   object \n",
      " 10  Country_of_Manufacture  3022 non-null   object \n",
      " 11  Autonomous_Level        2580 non-null   float64\n",
      " 12  CO2_Emissions_g_per_km  2430 non-null   float64\n",
      " 13  Safety_Rating           2685 non-null   float64\n",
      " 14  Units_Sold_2024         3022 non-null   int64  \n",
      " 15  Warranty_Years          3022 non-null   int64  \n",
      "dtypes: float64(6), int64(4), object(6)\n",
      "memory usage: 401.4+ KB\n"
     ]
    }
   ],
   "source": [
    "df.info()"
   ]
  },
  {
   "cell_type": "code",
   "execution_count": 3,
   "id": "db7bcfe1",
   "metadata": {
    "execution": {
     "iopub.execute_input": "2025-08-19T20:56:45.035635Z",
     "iopub.status.busy": "2025-08-19T20:56:45.035295Z",
     "iopub.status.idle": "2025-08-19T20:56:45.045482Z",
     "shell.execute_reply": "2025-08-19T20:56:45.044679Z"
    },
    "papermill": {
     "duration": 0.018523,
     "end_time": "2025-08-19T20:56:45.046825",
     "exception": false,
     "start_time": "2025-08-19T20:56:45.028302",
     "status": "completed"
    },
    "tags": []
   },
   "outputs": [
    {
     "data": {
      "text/plain": [
       "CO2_Emissions_g_per_km    592\n",
       "Autonomous_Level          442\n",
       "Safety_Rating             337\n",
       "Manufacturer                0\n",
       "Model                       0\n",
       "Year                        0\n",
       "Battery_Type                0\n",
       "Battery_Capacity_kWh        0\n",
       "Range_km                    0\n",
       "Charging_Type               0\n",
       "Charge_Time_hr              0\n",
       "Price_USD                   0\n",
       "Color                       0\n",
       "Country_of_Manufacture      0\n",
       "Units_Sold_2024             0\n",
       "Warranty_Years              0\n",
       "dtype: int64"
      ]
     },
     "execution_count": 3,
     "metadata": {},
     "output_type": "execute_result"
    }
   ],
   "source": [
    "df.isnull().sum().sort_values(ascending=False)"
   ]
  },
  {
   "cell_type": "code",
   "execution_count": 4,
   "id": "67fea3fe",
   "metadata": {
    "execution": {
     "iopub.execute_input": "2025-08-19T20:56:45.060518Z",
     "iopub.status.busy": "2025-08-19T20:56:45.059644Z",
     "iopub.status.idle": "2025-08-19T20:56:45.093966Z",
     "shell.execute_reply": "2025-08-19T20:56:45.093045Z"
    },
    "papermill": {
     "duration": 0.0428,
     "end_time": "2025-08-19T20:56:45.095563",
     "exception": false,
     "start_time": "2025-08-19T20:56:45.052763",
     "status": "completed"
    },
    "tags": []
   },
   "outputs": [
    {
     "data": {
      "text/html": [
       "<div>\n",
       "<style scoped>\n",
       "    .dataframe tbody tr th:only-of-type {\n",
       "        vertical-align: middle;\n",
       "    }\n",
       "\n",
       "    .dataframe tbody tr th {\n",
       "        vertical-align: top;\n",
       "    }\n",
       "\n",
       "    .dataframe thead th {\n",
       "        text-align: right;\n",
       "    }\n",
       "</style>\n",
       "<table border=\"1\" class=\"dataframe\">\n",
       "  <thead>\n",
       "    <tr style=\"text-align: right;\">\n",
       "      <th></th>\n",
       "      <th>count</th>\n",
       "      <th>mean</th>\n",
       "      <th>std</th>\n",
       "      <th>min</th>\n",
       "      <th>25%</th>\n",
       "      <th>50%</th>\n",
       "      <th>75%</th>\n",
       "      <th>max</th>\n",
       "    </tr>\n",
       "  </thead>\n",
       "  <tbody>\n",
       "    <tr>\n",
       "      <th>Year</th>\n",
       "      <td>3022.0</td>\n",
       "      <td>2020.019523</td>\n",
       "      <td>3.132083</td>\n",
       "      <td>2015.00</td>\n",
       "      <td>2017.000</td>\n",
       "      <td>2020.000</td>\n",
       "      <td>2023.0000</td>\n",
       "      <td>2025.00</td>\n",
       "    </tr>\n",
       "    <tr>\n",
       "      <th>Battery_Capacity_kWh</th>\n",
       "      <td>3022.0</td>\n",
       "      <td>84.314692</td>\n",
       "      <td>37.210461</td>\n",
       "      <td>20.00</td>\n",
       "      <td>52.425</td>\n",
       "      <td>83.600</td>\n",
       "      <td>115.8000</td>\n",
       "      <td>150.00</td>\n",
       "    </tr>\n",
       "    <tr>\n",
       "      <th>Range_km</th>\n",
       "      <td>3022.0</td>\n",
       "      <td>349.901059</td>\n",
       "      <td>145.406139</td>\n",
       "      <td>100.00</td>\n",
       "      <td>222.000</td>\n",
       "      <td>347.000</td>\n",
       "      <td>478.0000</td>\n",
       "      <td>600.00</td>\n",
       "    </tr>\n",
       "    <tr>\n",
       "      <th>Charge_Time_hr</th>\n",
       "      <td>3022.0</td>\n",
       "      <td>6.212045</td>\n",
       "      <td>3.350597</td>\n",
       "      <td>0.50</td>\n",
       "      <td>3.300</td>\n",
       "      <td>6.200</td>\n",
       "      <td>9.1000</td>\n",
       "      <td>12.00</td>\n",
       "    </tr>\n",
       "    <tr>\n",
       "      <th>Price_USD</th>\n",
       "      <td>3022.0</td>\n",
       "      <td>90611.906760</td>\n",
       "      <td>34654.533838</td>\n",
       "      <td>30014.46</td>\n",
       "      <td>61257.390</td>\n",
       "      <td>90929.705</td>\n",
       "      <td>120199.8425</td>\n",
       "      <td>149978.53</td>\n",
       "    </tr>\n",
       "    <tr>\n",
       "      <th>Autonomous_Level</th>\n",
       "      <td>2580.0</td>\n",
       "      <td>2.519380</td>\n",
       "      <td>1.713712</td>\n",
       "      <td>0.00</td>\n",
       "      <td>1.000</td>\n",
       "      <td>3.000</td>\n",
       "      <td>4.0000</td>\n",
       "      <td>5.00</td>\n",
       "    </tr>\n",
       "    <tr>\n",
       "      <th>CO2_Emissions_g_per_km</th>\n",
       "      <td>2430.0</td>\n",
       "      <td>0.000000</td>\n",
       "      <td>0.000000</td>\n",
       "      <td>0.00</td>\n",
       "      <td>0.000</td>\n",
       "      <td>0.000</td>\n",
       "      <td>0.0000</td>\n",
       "      <td>0.00</td>\n",
       "    </tr>\n",
       "    <tr>\n",
       "      <th>Safety_Rating</th>\n",
       "      <td>2685.0</td>\n",
       "      <td>3.995158</td>\n",
       "      <td>0.819594</td>\n",
       "      <td>3.00</td>\n",
       "      <td>3.000</td>\n",
       "      <td>4.000</td>\n",
       "      <td>5.0000</td>\n",
       "      <td>5.00</td>\n",
       "    </tr>\n",
       "    <tr>\n",
       "      <th>Units_Sold_2024</th>\n",
       "      <td>3022.0</td>\n",
       "      <td>10207.072799</td>\n",
       "      <td>5771.619003</td>\n",
       "      <td>6.00</td>\n",
       "      <td>5145.500</td>\n",
       "      <td>10350.000</td>\n",
       "      <td>15128.0000</td>\n",
       "      <td>19996.00</td>\n",
       "    </tr>\n",
       "    <tr>\n",
       "      <th>Warranty_Years</th>\n",
       "      <td>3022.0</td>\n",
       "      <td>3.997353</td>\n",
       "      <td>0.821746</td>\n",
       "      <td>3.00</td>\n",
       "      <td>3.000</td>\n",
       "      <td>4.000</td>\n",
       "      <td>5.0000</td>\n",
       "      <td>5.00</td>\n",
       "    </tr>\n",
       "  </tbody>\n",
       "</table>\n",
       "</div>"
      ],
      "text/plain": [
       "                         count          mean           std       min  \\\n",
       "Year                    3022.0   2020.019523      3.132083   2015.00   \n",
       "Battery_Capacity_kWh    3022.0     84.314692     37.210461     20.00   \n",
       "Range_km                3022.0    349.901059    145.406139    100.00   \n",
       "Charge_Time_hr          3022.0      6.212045      3.350597      0.50   \n",
       "Price_USD               3022.0  90611.906760  34654.533838  30014.46   \n",
       "Autonomous_Level        2580.0      2.519380      1.713712      0.00   \n",
       "CO2_Emissions_g_per_km  2430.0      0.000000      0.000000      0.00   \n",
       "Safety_Rating           2685.0      3.995158      0.819594      3.00   \n",
       "Units_Sold_2024         3022.0  10207.072799   5771.619003      6.00   \n",
       "Warranty_Years          3022.0      3.997353      0.821746      3.00   \n",
       "\n",
       "                              25%        50%          75%        max  \n",
       "Year                     2017.000   2020.000    2023.0000    2025.00  \n",
       "Battery_Capacity_kWh       52.425     83.600     115.8000     150.00  \n",
       "Range_km                  222.000    347.000     478.0000     600.00  \n",
       "Charge_Time_hr              3.300      6.200       9.1000      12.00  \n",
       "Price_USD               61257.390  90929.705  120199.8425  149978.53  \n",
       "Autonomous_Level            1.000      3.000       4.0000       5.00  \n",
       "CO2_Emissions_g_per_km      0.000      0.000       0.0000       0.00  \n",
       "Safety_Rating               3.000      4.000       5.0000       5.00  \n",
       "Units_Sold_2024          5145.500  10350.000   15128.0000   19996.00  \n",
       "Warranty_Years              3.000      4.000       5.0000       5.00  "
      ]
     },
     "execution_count": 4,
     "metadata": {},
     "output_type": "execute_result"
    }
   ],
   "source": [
    "df.describe().T"
   ]
  },
  {
   "cell_type": "code",
   "execution_count": 5,
   "id": "0bd0bbec",
   "metadata": {
    "execution": {
     "iopub.execute_input": "2025-08-19T20:56:45.110552Z",
     "iopub.status.busy": "2025-08-19T20:56:45.109435Z",
     "iopub.status.idle": "2025-08-19T20:56:45.130637Z",
     "shell.execute_reply": "2025-08-19T20:56:45.129630Z"
    },
    "papermill": {
     "duration": 0.030485,
     "end_time": "2025-08-19T20:56:45.132191",
     "exception": false,
     "start_time": "2025-08-19T20:56:45.101706",
     "status": "completed"
    },
    "tags": []
   },
   "outputs": [
    {
     "data": {
      "text/html": [
       "<div>\n",
       "<style scoped>\n",
       "    .dataframe tbody tr th:only-of-type {\n",
       "        vertical-align: middle;\n",
       "    }\n",
       "\n",
       "    .dataframe tbody tr th {\n",
       "        vertical-align: top;\n",
       "    }\n",
       "\n",
       "    .dataframe thead th {\n",
       "        text-align: right;\n",
       "    }\n",
       "</style>\n",
       "<table border=\"1\" class=\"dataframe\">\n",
       "  <thead>\n",
       "    <tr style=\"text-align: right;\">\n",
       "      <th></th>\n",
       "      <th>count</th>\n",
       "      <th>unique</th>\n",
       "      <th>top</th>\n",
       "      <th>freq</th>\n",
       "    </tr>\n",
       "  </thead>\n",
       "  <tbody>\n",
       "    <tr>\n",
       "      <th>Manufacturer</th>\n",
       "      <td>3022</td>\n",
       "      <td>53</td>\n",
       "      <td>Ferrari</td>\n",
       "      <td>78</td>\n",
       "    </tr>\n",
       "    <tr>\n",
       "      <th>Model</th>\n",
       "      <td>3022</td>\n",
       "      <td>181</td>\n",
       "      <td>Nevera</td>\n",
       "      <td>68</td>\n",
       "    </tr>\n",
       "    <tr>\n",
       "      <th>Battery_Type</th>\n",
       "      <td>3022</td>\n",
       "      <td>15</td>\n",
       "      <td>Lithium-titanate</td>\n",
       "      <td>233</td>\n",
       "    </tr>\n",
       "    <tr>\n",
       "      <th>Charging_Type</th>\n",
       "      <td>3022</td>\n",
       "      <td>16</td>\n",
       "      <td>Mobile Charging</td>\n",
       "      <td>206</td>\n",
       "    </tr>\n",
       "    <tr>\n",
       "      <th>Color</th>\n",
       "      <td>3022</td>\n",
       "      <td>55</td>\n",
       "      <td>Ruby Red</td>\n",
       "      <td>77</td>\n",
       "    </tr>\n",
       "    <tr>\n",
       "      <th>Country_of_Manufacture</th>\n",
       "      <td>3022</td>\n",
       "      <td>40</td>\n",
       "      <td>Singapore</td>\n",
       "      <td>92</td>\n",
       "    </tr>\n",
       "  </tbody>\n",
       "</table>\n",
       "</div>"
      ],
      "text/plain": [
       "                       count unique               top freq\n",
       "Manufacturer            3022     53           Ferrari   78\n",
       "Model                   3022    181            Nevera   68\n",
       "Battery_Type            3022     15  Lithium-titanate  233\n",
       "Charging_Type           3022     16   Mobile Charging  206\n",
       "Color                   3022     55          Ruby Red   77\n",
       "Country_of_Manufacture  3022     40         Singapore   92"
      ]
     },
     "execution_count": 5,
     "metadata": {},
     "output_type": "execute_result"
    }
   ],
   "source": [
    "df.describe(include=['object']).T"
   ]
  },
  {
   "cell_type": "code",
   "execution_count": 6,
   "id": "5c1782f4",
   "metadata": {
    "execution": {
     "iopub.execute_input": "2025-08-19T20:56:45.146997Z",
     "iopub.status.busy": "2025-08-19T20:56:45.145904Z",
     "iopub.status.idle": "2025-08-19T20:56:46.104157Z",
     "shell.execute_reply": "2025-08-19T20:56:46.103258Z"
    },
    "papermill": {
     "duration": 0.966894,
     "end_time": "2025-08-19T20:56:46.105657",
     "exception": false,
     "start_time": "2025-08-19T20:56:45.138763",
     "status": "completed"
    },
    "tags": []
   },
   "outputs": [
    {
     "name": "stderr",
     "output_type": "stream",
     "text": [
      "/usr/local/lib/python3.11/dist-packages/seaborn/_oldcore.py:1119: FutureWarning: use_inf_as_na option is deprecated and will be removed in a future version. Convert inf values to NaN before operating instead.\n",
      "  with pd.option_context('mode.use_inf_as_na', True):\n",
      "/usr/local/lib/python3.11/dist-packages/seaborn/_oldcore.py:1119: FutureWarning: use_inf_as_na option is deprecated and will be removed in a future version. Convert inf values to NaN before operating instead.\n",
      "  with pd.option_context('mode.use_inf_as_na', True):\n",
      "/usr/local/lib/python3.11/dist-packages/seaborn/_oldcore.py:1119: FutureWarning: use_inf_as_na option is deprecated and will be removed in a future version. Convert inf values to NaN before operating instead.\n",
      "  with pd.option_context('mode.use_inf_as_na', True):\n"
     ]
    },
    {
     "data": {
      "text/plain": [
       "Text(0.5, 1.0, 'Distribution of EV Prices (USD)')"
      ]
     },
     "execution_count": 6,
     "metadata": {},
     "output_type": "execute_result"
    },
    {
     "data": {
      "image/png": "[encoded data removed]",
      "text/plain": [
       "<Figure size 1800x500 with 3 Axes>"
      ]
     },
     "metadata": {},
     "output_type": "display_data"
    }
   ],
   "source": [
    "fig, axs = plt.subplots(1, 3, figsize=(18, 5))\n",
    "\n",
    "sns.histplot(df['Units_Sold_2024'], bins=40, kde=True, ax=axs[0], color='green')\n",
    "axs[0].set_title(\"Distribution of EV Sales (2024)\")\n",
    "\n",
    "sns.histplot(df[\"Range_km\"], bins=40, kde=True, ax=axs[1], color=\"blue\")\n",
    "axs[1].set_title(\"Distribution of Driving Range (km)\")\n",
    "\n",
    "sns.histplot(df[\"Price_USD\"], bins=40, kde=True, ax=axs[2], color=\"orange\")\n",
    "axs[2].set_title(\"Distribution of EV Prices (USD)\")"
   ]
  },
  {
   "cell_type": "code",
   "execution_count": 7,
   "id": "d4fe9f33",
   "metadata": {
    "execution": {
     "iopub.execute_input": "2025-08-19T20:56:46.123995Z",
     "iopub.status.busy": "2025-08-19T20:56:46.123683Z",
     "iopub.status.idle": "2025-08-19T20:56:46.374841Z",
     "shell.execute_reply": "2025-08-19T20:56:46.373894Z"
    },
    "papermill": {
     "duration": 0.261585,
     "end_time": "2025-08-19T20:56:46.376527",
     "exception": false,
     "start_time": "2025-08-19T20:56:46.114942",
     "status": "completed"
    },
    "tags": []
   },
   "outputs": [
    {
     "data": {
      "text/plain": [
       "Text(0, 0.5, 'Manufacturer')"
      ]
     },
     "execution_count": 7,
     "metadata": {},
     "output_type": "execute_result"
    },
    {
     "data": {
      "image/png": "[encoded data removed]",
      "text/plain": [
       "<Figure size 1200x600 with 1 Axes>"
      ]
     },
     "metadata": {},
     "output_type": "display_data"
    }
   ],
   "source": [
    "plt.figure(figsize=(12,6))\n",
    "top_brands = df[\"Manufacturer\"].value_counts().head(10).sort_values(ascending=False)\n",
    "sns.barplot(y=top_brands.index, x=top_brands.values, palette=\"viridis\")\n",
    "plt.title(\"Top 10 EV Manufacturers in Dataset\")\n",
    "plt.xlabel(\"Number of Models\")\n",
    "plt.ylabel(\"Manufacturer\")"
   ]
  },
  {
   "cell_type": "code",
   "execution_count": 8,
   "id": "9925bd33",
   "metadata": {
    "execution": {
     "iopub.execute_input": "2025-08-19T20:56:46.398402Z",
     "iopub.status.busy": "2025-08-19T20:56:46.398071Z",
     "iopub.status.idle": "2025-08-19T20:56:46.640143Z",
     "shell.execute_reply": "2025-08-19T20:56:46.639149Z"
    },
    "papermill": {
     "duration": 0.253836,
     "end_time": "2025-08-19T20:56:46.641700",
     "exception": false,
     "start_time": "2025-08-19T20:56:46.387864",
     "status": "completed"
    },
    "tags": []
   },
   "outputs": [
    {
     "data": {
      "text/plain": [
       "Text(0.5, 1.0, 'Distribution of vehicles by Year')"
      ]
     },
     "execution_count": 8,
     "metadata": {},
     "output_type": "execute_result"
    },
    {
     "data": {
      "image/png": "[encoded data removed]",
      "text/plain": [
       "<Figure size 1000x600 with 1 Axes>"
      ]
     },
     "metadata": {},
     "output_type": "display_data"
    }
   ],
   "source": [
    "plt.figure(figsize=(10, 6))\n",
    "sns.countplot(x = df.Year)\n",
    "plt.title('Distribution of vehicles by Year')"
   ]
  },
  {
   "cell_type": "markdown",
   "id": "a4e5476d",
   "metadata": {
    "papermill": {
     "duration": 0.009412,
     "end_time": "2025-08-19T20:56:46.660903",
     "exception": false,
     "start_time": "2025-08-19T20:56:46.651491",
     "status": "completed"
    },
    "tags": []
   },
   "source": [
    "# Data Cleaning & Preprocessing"
   ]
  },
  {
   "cell_type": "code",
   "execution_count": 9,
   "id": "e1182a65",
   "metadata": {
    "execution": {
     "iopub.execute_input": "2025-08-19T20:56:46.681764Z",
     "iopub.status.busy": "2025-08-19T20:56:46.680775Z",
     "iopub.status.idle": "2025-08-19T20:56:46.689095Z",
     "shell.execute_reply": "2025-08-19T20:56:46.688125Z"
    },
    "papermill": {
     "duration": 0.02028,
     "end_time": "2025-08-19T20:56:46.690729",
     "exception": false,
     "start_time": "2025-08-19T20:56:46.670449",
     "status": "completed"
    },
    "tags": []
   },
   "outputs": [
    {
     "data": {
      "text/plain": [
       "Manufacturer               object\n",
       "Model                      object\n",
       "Year                        int64\n",
       "Battery_Type               object\n",
       "Battery_Capacity_kWh      float64\n",
       "Range_km                    int64\n",
       "Charging_Type              object\n",
       "Charge_Time_hr            float64\n",
       "Price_USD                 float64\n",
       "Color                      object\n",
       "Country_of_Manufacture     object\n",
       "Autonomous_Level          float64\n",
       "CO2_Emissions_g_per_km    float64\n",
       "Safety_Rating             float64\n",
       "Units_Sold_2024             int64\n",
       "Warranty_Years              int64\n",
       "dtype: object"
      ]
     },
     "execution_count": 9,
     "metadata": {},
     "output_type": "execute_result"
    }
   ],
   "source": [
    "df.dtypes"
   ]
  },
  {
   "cell_type": "code",
   "execution_count": 10,
   "id": "a99b4726",
   "metadata": {
    "execution": {
     "iopub.execute_input": "2025-08-19T20:56:46.711015Z",
     "iopub.status.busy": "2025-08-19T20:56:46.710680Z",
     "iopub.status.idle": "2025-08-19T20:56:46.717113Z",
     "shell.execute_reply": "2025-08-19T20:56:46.716328Z"
    },
    "papermill": {
     "duration": 0.0181,
     "end_time": "2025-08-19T20:56:46.718441",
     "exception": false,
     "start_time": "2025-08-19T20:56:46.700341",
     "status": "completed"
    },
    "tags": []
   },
   "outputs": [
    {
     "data": {
      "text/plain": [
       "array([ 0.,  2.,  5., nan,  1.,  3.,  4.])"
      ]
     },
     "execution_count": 10,
     "metadata": {},
     "output_type": "execute_result"
    }
   ],
   "source": [
    "df['Autonomous_Level'].unique()"
   ]
  },
  {
   "cell_type": "code",
   "execution_count": 11,
   "id": "da262872",
   "metadata": {
    "execution": {
     "iopub.execute_input": "2025-08-19T20:56:46.739470Z",
     "iopub.status.busy": "2025-08-19T20:56:46.738667Z",
     "iopub.status.idle": "2025-08-19T20:56:46.757533Z",
     "shell.execute_reply": "2025-08-19T20:56:46.756487Z"
    },
    "papermill": {
     "duration": 0.031152,
     "end_time": "2025-08-19T20:56:46.759121",
     "exception": false,
     "start_time": "2025-08-19T20:56:46.727969",
     "status": "completed"
    },
    "tags": []
   },
   "outputs": [
    {
     "name": "stderr",
     "output_type": "stream",
     "text": [
      "/usr/local/lib/python3.11/dist-packages/pandas/io/formats/format.py:1458: RuntimeWarning: invalid value encountered in greater\n",
      "  has_large_values = (abs_vals > 1e6).any()\n",
      "/usr/local/lib/python3.11/dist-packages/pandas/io/formats/format.py:1459: RuntimeWarning: invalid value encountered in less\n",
      "  has_small_values = ((abs_vals < 10 ** (-self.digits)) & (abs_vals > 0)).any()\n",
      "/usr/local/lib/python3.11/dist-packages/pandas/io/formats/format.py:1459: RuntimeWarning: invalid value encountered in greater\n",
      "  has_small_values = ((abs_vals < 10 ** (-self.digits)) & (abs_vals > 0)).any()\n"
     ]
    },
    {
     "data": {
      "text/html": [
       "<div>\n",
       "<style scoped>\n",
       "    .dataframe tbody tr th:only-of-type {\n",
       "        vertical-align: middle;\n",
       "    }\n",
       "\n",
       "    .dataframe tbody tr th {\n",
       "        vertical-align: top;\n",
       "    }\n",
       "\n",
       "    .dataframe thead th {\n",
       "        text-align: right;\n",
       "    }\n",
       "</style>\n",
       "<table border=\"1\" class=\"dataframe\">\n",
       "  <thead>\n",
       "    <tr style=\"text-align: right;\">\n",
       "      <th></th>\n",
       "      <th>Manufacturer</th>\n",
       "      <th>Model</th>\n",
       "      <th>Year</th>\n",
       "      <th>Battery_Type</th>\n",
       "      <th>Battery_Capacity_kWh</th>\n",
       "      <th>Range_km</th>\n",
       "      <th>Charging_Type</th>\n",
       "      <th>Charge_Time_hr</th>\n",
       "      <th>Price_USD</th>\n",
       "      <th>Color</th>\n",
       "      <th>Country_of_Manufacture</th>\n",
       "      <th>Autonomous_Level</th>\n",
       "      <th>CO2_Emissions_g_per_km</th>\n",
       "      <th>Safety_Rating</th>\n",
       "      <th>Units_Sold_2024</th>\n",
       "      <th>Warranty_Years</th>\n",
       "    </tr>\n",
       "    <tr>\n",
       "      <th>Vehicle_ID</th>\n",
       "      <th></th>\n",
       "      <th></th>\n",
       "      <th></th>\n",
       "      <th></th>\n",
       "      <th></th>\n",
       "      <th></th>\n",
       "      <th></th>\n",
       "      <th></th>\n",
       "      <th></th>\n",
       "      <th></th>\n",
       "      <th></th>\n",
       "      <th></th>\n",
       "      <th></th>\n",
       "      <th></th>\n",
       "      <th></th>\n",
       "      <th></th>\n",
       "    </tr>\n",
       "  </thead>\n",
       "  <tbody>\n",
       "    <tr>\n",
       "      <th>6</th>\n",
       "      <td>XPeng</td>\n",
       "      <td>G9</td>\n",
       "      <td>2016</td>\n",
       "      <td>Lithium-iron phosphate</td>\n",
       "      <td>138.7</td>\n",
       "      <td>390</td>\n",
       "      <td>Mobile Charging</td>\n",
       "      <td>2.9</td>\n",
       "      <td>89907.75</td>\n",
       "      <td>Ruby Red</td>\n",
       "      <td>Australia</td>\n",
       "      <td>NaN</td>\n",
       "      <td>NaN</td>\n",
       "      <td>5.0</td>\n",
       "      <td>8609</td>\n",
       "      <td>5</td>\n",
       "    </tr>\n",
       "    <tr>\n",
       "      <th>8</th>\n",
       "      <td>Changan</td>\n",
       "      <td>Q05</td>\n",
       "      <td>2019</td>\n",
       "      <td>Lead-acid</td>\n",
       "      <td>131.9</td>\n",
       "      <td>105</td>\n",
       "      <td>CCS</td>\n",
       "      <td>8.3</td>\n",
       "      <td>94436.44</td>\n",
       "      <td>Bronze</td>\n",
       "      <td>Mexico</td>\n",
       "      <td>NaN</td>\n",
       "      <td>0.0</td>\n",
       "      <td>5.0</td>\n",
       "      <td>8630</td>\n",
       "      <td>5</td>\n",
       "    </tr>\n",
       "    <tr>\n",
       "      <th>10</th>\n",
       "      <td>Rimac</td>\n",
       "      <td>Nevera</td>\n",
       "      <td>2015</td>\n",
       "      <td>Solid-state</td>\n",
       "      <td>140.8</td>\n",
       "      <td>549</td>\n",
       "      <td>Solar Charging</td>\n",
       "      <td>3.3</td>\n",
       "      <td>58904.59</td>\n",
       "      <td>Matte Green</td>\n",
       "      <td>UK</td>\n",
       "      <td>NaN</td>\n",
       "      <td>0.0</td>\n",
       "      <td>NaN</td>\n",
       "      <td>17455</td>\n",
       "      <td>3</td>\n",
       "    </tr>\n",
       "  </tbody>\n",
       "</table>\n",
       "</div>"
      ],
      "text/plain": [
       "           Manufacturer   Model  Year            Battery_Type  \\\n",
       "Vehicle_ID                                                      \n",
       "6                 XPeng      G9  2016  Lithium-iron phosphate   \n",
       "8               Changan     Q05  2019               Lead-acid   \n",
       "10                Rimac  Nevera  2015             Solid-state   \n",
       "\n",
       "            Battery_Capacity_kWh  Range_km    Charging_Type  Charge_Time_hr  \\\n",
       "Vehicle_ID                                                                    \n",
       "6                          138.7       390  Mobile Charging             2.9   \n",
       "8                          131.9       105              CCS             8.3   \n",
       "10                         140.8       549   Solar Charging             3.3   \n",
       "\n",
       "            Price_USD        Color Country_of_Manufacture  Autonomous_Level  \\\n",
       "Vehicle_ID                                                                    \n",
       "6            89907.75     Ruby Red              Australia               NaN   \n",
       "8            94436.44       Bronze                 Mexico               NaN   \n",
       "10           58904.59  Matte Green                     UK               NaN   \n",
       "\n",
       "            CO2_Emissions_g_per_km  Safety_Rating  Units_Sold_2024  \\\n",
       "Vehicle_ID                                                           \n",
       "6                              NaN            5.0             8609   \n",
       "8                              0.0            5.0             8630   \n",
       "10                             0.0            NaN            17455   \n",
       "\n",
       "            Warranty_Years  \n",
       "Vehicle_ID                  \n",
       "6                        5  \n",
       "8                        5  \n",
       "10                       3  "
      ]
     },
     "execution_count": 11,
     "metadata": {},
     "output_type": "execute_result"
    }
   ],
   "source": [
    "df[df['Autonomous_Level'].isnull()].head(3)"
   ]
  },
  {
   "cell_type": "code",
   "execution_count": 12,
   "id": "c8468379",
   "metadata": {
    "execution": {
     "iopub.execute_input": "2025-08-19T20:56:46.780840Z",
     "iopub.status.busy": "2025-08-19T20:56:46.780538Z",
     "iopub.status.idle": "2025-08-19T20:56:46.791033Z",
     "shell.execute_reply": "2025-08-19T20:56:46.790200Z"
    },
    "papermill": {
     "duration": 0.023109,
     "end_time": "2025-08-19T20:56:46.792522",
     "exception": false,
     "start_time": "2025-08-19T20:56:46.769413",
     "status": "completed"
    },
    "tags": []
   },
   "outputs": [
    {
     "data": {
      "text/plain": [
       "CategoricalDtype(categories=[0.0, 1.0, 2.0, 3.0, 4.0, 5.0, 'Unknown'], ordered=False, categories_dtype=object)"
      ]
     },
     "execution_count": 12,
     "metadata": {},
     "output_type": "execute_result"
    }
   ],
   "source": [
    "df['Autonomous_Level'] = df['Autonomous_Level'].fillna('Unknown')\n",
    "df['Autonomous_Level'] = df['Autonomous_Level'].astype('category')\n",
    "df['Autonomous_Level'].dtype"
   ]
  },
  {
   "cell_type": "code",
   "execution_count": 13,
   "id": "8e544c02",
   "metadata": {
    "execution": {
     "iopub.execute_input": "2025-08-19T20:56:46.814519Z",
     "iopub.status.busy": "2025-08-19T20:56:46.813750Z",
     "iopub.status.idle": "2025-08-19T20:56:46.823223Z",
     "shell.execute_reply": "2025-08-19T20:56:46.822328Z"
    },
    "papermill": {
     "duration": 0.022151,
     "end_time": "2025-08-19T20:56:46.824739",
     "exception": false,
     "start_time": "2025-08-19T20:56:46.802588",
     "status": "completed"
    },
    "tags": []
   },
   "outputs": [
    {
     "data": {
      "text/plain": [
       "CategoricalDtype(categories=[3.0, 4.0, 5.0, 'Unknown'], ordered=False, categories_dtype=object)"
      ]
     },
     "execution_count": 13,
     "metadata": {},
     "output_type": "execute_result"
    }
   ],
   "source": [
    "df['Safety_Rating'] = df['Safety_Rating'].fillna('Unknown')\n",
    "df['Safety_Rating'] = df['Safety_Rating'].astype('category')\n",
    "df['Safety_Rating'].dtype"
   ]
  },
  {
   "cell_type": "code",
   "execution_count": 14,
   "id": "d0ee2aab",
   "metadata": {
    "execution": {
     "iopub.execute_input": "2025-08-19T20:56:46.846737Z",
     "iopub.status.busy": "2025-08-19T20:56:46.846389Z",
     "iopub.status.idle": "2025-08-19T20:56:46.880385Z",
     "shell.execute_reply": "2025-08-19T20:56:46.879344Z"
    },
    "papermill": {
     "duration": 0.046996,
     "end_time": "2025-08-19T20:56:46.882129",
     "exception": false,
     "start_time": "2025-08-19T20:56:46.835133",
     "status": "completed"
    },
    "tags": []
   },
   "outputs": [],
   "source": [
    "df[\"Powertrain\"] = np.where(df[\"CO2_Emissions_g_per_km\"].fillna(0) <= 1, \"BEV\", \"PHEV\")\n",
    "\n",
    "def fill_co2(row):\n",
    "    if pd.isna(row[\"CO2_Emissions_g_per_km\"]):\n",
    "        if row[\"Powertrain\"] == \"BEV\":\n",
    "            return 0.0\n",
    "        else:  # PHEV\n",
    "            return df.loc[df[\"Powertrain\"]==\"PHEV\", \"CO2_Emissions_g_per_km\"].mean()\n",
    "    else:\n",
    "        return row[\"CO2_Emissions_g_per_km\"]\n",
    "\n",
    "df[\"CO2_Emissions_g_per_km\"] = df.apply(fill_co2, axis=1)\n"
   ]
  },
  {
   "cell_type": "code",
   "execution_count": 15,
   "id": "fc7fe9a7",
   "metadata": {
    "execution": {
     "iopub.execute_input": "2025-08-19T20:56:46.903705Z",
     "iopub.status.busy": "2025-08-19T20:56:46.903350Z",
     "iopub.status.idle": "2025-08-19T20:56:46.912435Z",
     "shell.execute_reply": "2025-08-19T20:56:46.911550Z"
    },
    "papermill": {
     "duration": 0.02159,
     "end_time": "2025-08-19T20:56:46.913893",
     "exception": false,
     "start_time": "2025-08-19T20:56:46.892303",
     "status": "completed"
    },
    "tags": []
   },
   "outputs": [
    {
     "data": {
      "text/plain": [
       "0"
      ]
     },
     "execution_count": 15,
     "metadata": {},
     "output_type": "execute_result"
    }
   ],
   "source": [
    "df.isnull().sum().sum()"
   ]
  },
  {
   "cell_type": "code",
   "execution_count": 16,
   "id": "7c67ca27",
   "metadata": {
    "execution": {
     "iopub.execute_input": "2025-08-19T20:56:46.935778Z",
     "iopub.status.busy": "2025-08-19T20:56:46.934970Z",
     "iopub.status.idle": "2025-08-19T20:56:46.941274Z",
     "shell.execute_reply": "2025-08-19T20:56:46.940249Z"
    },
    "papermill": {
     "duration": 0.01875,
     "end_time": "2025-08-19T20:56:46.942735",
     "exception": false,
     "start_time": "2025-08-19T20:56:46.923985",
     "status": "completed"
    },
    "tags": []
   },
   "outputs": [],
   "source": [
    "df[\"Powertrain\"] = df[\"Powertrain\"].astype(\"category\")"
   ]
  },
  {
   "cell_type": "code",
   "execution_count": 17,
   "id": "3b72d01e",
   "metadata": {
    "execution": {
     "iopub.execute_input": "2025-08-19T20:56:46.964344Z",
     "iopub.status.busy": "2025-08-19T20:56:46.963975Z",
     "iopub.status.idle": "2025-08-19T20:56:46.971085Z",
     "shell.execute_reply": "2025-08-19T20:56:46.970260Z"
    },
    "papermill": {
     "duration": 0.019702,
     "end_time": "2025-08-19T20:56:46.972550",
     "exception": false,
     "start_time": "2025-08-19T20:56:46.952848",
     "status": "completed"
    },
    "tags": []
   },
   "outputs": [
    {
     "data": {
      "text/plain": [
       "Manufacturer                object\n",
       "Model                       object\n",
       "Year                         int64\n",
       "Battery_Type                object\n",
       "Battery_Capacity_kWh       float64\n",
       "Range_km                     int64\n",
       "Charging_Type               object\n",
       "Charge_Time_hr             float64\n",
       "Price_USD                  float64\n",
       "Color                       object\n",
       "Country_of_Manufacture      object\n",
       "Autonomous_Level          category\n",
       "CO2_Emissions_g_per_km     float64\n",
       "Safety_Rating             category\n",
       "Units_Sold_2024              int64\n",
       "Warranty_Years               int64\n",
       "Powertrain                category\n",
       "dtype: object"
      ]
     },
     "execution_count": 17,
     "metadata": {},
     "output_type": "execute_result"
    }
   ],
   "source": [
    "df.dtypes"
   ]
  },
  {
   "cell_type": "code",
   "execution_count": 18,
   "id": "b4f489fb",
   "metadata": {
    "execution": {
     "iopub.execute_input": "2025-08-19T20:56:46.995121Z",
     "iopub.status.busy": "2025-08-19T20:56:46.993989Z",
     "iopub.status.idle": "2025-08-19T20:56:47.001808Z",
     "shell.execute_reply": "2025-08-19T20:56:47.000872Z"
    },
    "papermill": {
     "duration": 0.020667,
     "end_time": "2025-08-19T20:56:47.003439",
     "exception": false,
     "start_time": "2025-08-19T20:56:46.982772",
     "status": "completed"
    },
    "tags": []
   },
   "outputs": [
    {
     "data": {
      "text/plain": [
       "3022"
      ]
     },
     "execution_count": 18,
     "metadata": {},
     "output_type": "execute_result"
    }
   ],
   "source": [
    "df['Model'].value_counts().sum()"
   ]
  },
  {
   "cell_type": "code",
   "execution_count": 19,
   "id": "6cc7ac99",
   "metadata": {
    "execution": {
     "iopub.execute_input": "2025-08-19T20:56:47.027823Z",
     "iopub.status.busy": "2025-08-19T20:56:47.027521Z",
     "iopub.status.idle": "2025-08-19T20:56:47.039383Z",
     "shell.execute_reply": "2025-08-19T20:56:47.038517Z"
    },
    "papermill": {
     "duration": 0.025882,
     "end_time": "2025-08-19T20:56:47.041002",
     "exception": false,
     "start_time": "2025-08-19T20:56:47.015120",
     "status": "completed"
    },
    "tags": []
   },
   "outputs": [
    {
     "data": {
      "text/plain": [
       "Manufacturer              category\n",
       "Model                       object\n",
       "Year                         int64\n",
       "Battery_Type              category\n",
       "Battery_Capacity_kWh       float64\n",
       "Range_km                     int64\n",
       "Charging_Type             category\n",
       "Charge_Time_hr             float64\n",
       "Price_USD                  float64\n",
       "Color                     category\n",
       "Country_of_Manufacture    category\n",
       "Autonomous_Level          category\n",
       "CO2_Emissions_g_per_km     float64\n",
       "Safety_Rating             category\n",
       "Units_Sold_2024              int64\n",
       "Warranty_Years               int64\n",
       "Powertrain                category\n",
       "dtype: object"
      ]
     },
     "execution_count": 19,
     "metadata": {},
     "output_type": "execute_result"
    }
   ],
   "source": [
    "cat_cols = [\"Manufacturer\",\"Battery_Type\",\"Charging_Type\",\n",
    "            \"Country_of_Manufacture\",\"Color\"]\n",
    "\n",
    "for c in cat_cols:\n",
    "    df[c] = df[c].astype('category')\n",
    "\n",
    "df.dtypes"
   ]
  },
  {
   "cell_type": "code",
   "execution_count": 20,
   "id": "5be0a177",
   "metadata": {
    "execution": {
     "iopub.execute_input": "2025-08-19T20:56:47.063989Z",
     "iopub.status.busy": "2025-08-19T20:56:47.062931Z",
     "iopub.status.idle": "2025-08-19T20:56:47.361010Z",
     "shell.execute_reply": "2025-08-19T20:56:47.360023Z"
    },
    "papermill": {
     "duration": 0.311165,
     "end_time": "2025-08-19T20:56:47.362966",
     "exception": false,
     "start_time": "2025-08-19T20:56:47.051801",
     "status": "completed"
    },
    "tags": []
   },
   "outputs": [
    {
     "name": "stderr",
     "output_type": "stream",
     "text": [
      "/usr/local/lib/python3.11/dist-packages/seaborn/_oldcore.py:1119: FutureWarning: use_inf_as_na option is deprecated and will be removed in a future version. Convert inf values to NaN before operating instead.\n",
      "  with pd.option_context('mode.use_inf_as_na', True):\n"
     ]
    },
    {
     "data": {
      "image/png": "[encoded data removed]",
      "text/plain": [
       "<Figure size 800x500 with 1 Axes>"
      ]
     },
     "metadata": {},
     "output_type": "display_data"
    },
    {
     "data": {
      "text/plain": [
       "count    3022.000000\n",
       "mean        5.444689\n",
       "std         4.267455\n",
       "min         0.696072\n",
       "25%         2.595142\n",
       "50%         4.070454\n",
       "75%         6.707462\n",
       "max        28.823529\n",
       "Name: efficiency_km_per_kWh, dtype: float64"
      ]
     },
     "execution_count": 20,
     "metadata": {},
     "output_type": "execute_result"
    }
   ],
   "source": [
    "df['efficiency_km_per_kWh'] = df['Range_km'] / df['Battery_Capacity_kWh']\n",
    "\n",
    "plt.figure(figsize=(8, 5))\n",
    "sns.histplot(df['efficiency_km_per_kWh'], bins=40, kde=True)\n",
    "plt.title('Efficiency distribution (km per kWh)')\n",
    "plt.xlabel(\"km per kWh\")\n",
    "plt.show()\n",
    "df['efficiency_km_per_kWh'].describe()"
   ]
  },
  {
   "cell_type": "code",
   "execution_count": 21,
   "id": "451f0f9f",
   "metadata": {
    "execution": {
     "iopub.execute_input": "2025-08-19T20:56:47.389651Z",
     "iopub.status.busy": "2025-08-19T20:56:47.388996Z",
     "iopub.status.idle": "2025-08-19T20:56:47.669200Z",
     "shell.execute_reply": "2025-08-19T20:56:47.668272Z"
    },
    "papermill": {
     "duration": 0.294905,
     "end_time": "2025-08-19T20:56:47.670974",
     "exception": false,
     "start_time": "2025-08-19T20:56:47.376069",
     "status": "completed"
    },
    "tags": []
   },
   "outputs": [
    {
     "name": "stderr",
     "output_type": "stream",
     "text": [
      "/usr/local/lib/python3.11/dist-packages/seaborn/_oldcore.py:1119: FutureWarning: use_inf_as_na option is deprecated and will be removed in a future version. Convert inf values to NaN before operating instead.\n",
      "  with pd.option_context('mode.use_inf_as_na', True):\n"
     ]
    },
    {
     "data": {
      "image/png": "[encoded data removed]",
      "text/plain": [
       "<Figure size 800x500 with 1 Axes>"
      ]
     },
     "metadata": {},
     "output_type": "display_data"
    },
    {
     "data": {
      "text/plain": [
       "count    3022.000000\n",
       "mean       99.610217\n",
       "std       126.762792\n",
       "min         9.051724\n",
       "25%        33.929335\n",
       "50%        56.528673\n",
       "75%       109.047826\n",
       "max      1146.000000\n",
       "Name: Range_per_charge_hour, dtype: float64"
      ]
     },
     "execution_count": 21,
     "metadata": {},
     "output_type": "execute_result"
    }
   ],
   "source": [
    "df[\"Range_per_charge_hour\"] = df[\"Range_km\"] / df[\"Charge_Time_hr\"]\n",
    "\n",
    "plt.figure(figsize=(8, 5))\n",
    "sns.histplot(df[\"Range_per_charge_hour\"], bins=40, kde=True, color='green')\n",
    "plt.title('What range (km) you get by charging for one hour')\n",
    "plt.xlabel(\"km per h\")\n",
    "plt.show()\n",
    "df[\"Range_per_charge_hour\"].describe()"
   ]
  },
  {
   "cell_type": "markdown",
   "id": "d643e2d3",
   "metadata": {
    "papermill": {
     "duration": 0.012468,
     "end_time": "2025-08-19T20:56:47.696163",
     "exception": false,
     "start_time": "2025-08-19T20:56:47.683695",
     "status": "completed"
    },
    "tags": []
   },
   "source": [
    "## Train / Test Split"
   ]
  },
  {
   "cell_type": "code",
   "execution_count": 22,
   "id": "ec09504c",
   "metadata": {
    "execution": {
     "iopub.execute_input": "2025-08-19T20:56:47.723383Z",
     "iopub.status.busy": "2025-08-19T20:56:47.722998Z",
     "iopub.status.idle": "2025-08-19T20:56:48.116101Z",
     "shell.execute_reply": "2025-08-19T20:56:48.114907Z"
    },
    "papermill": {
     "duration": 0.409954,
     "end_time": "2025-08-19T20:56:48.118537",
     "exception": false,
     "start_time": "2025-08-19T20:56:47.708583",
     "status": "completed"
    },
    "tags": []
   },
   "outputs": [],
   "source": [
    "from sklearn.model_selection import train_test_split\n",
    "def get_train_test(target, data):\n",
    "    X = data.drop(columns=target)\n",
    "    y = data[target]\n",
    "    return train_test_split(X, y, test_size=0.2, random_state=42)"
   ]
  },
  {
   "cell_type": "markdown",
   "id": "69b09c8d",
   "metadata": {
    "papermill": {
     "duration": 0.012915,
     "end_time": "2025-08-19T20:56:48.145398",
     "exception": false,
     "start_time": "2025-08-19T20:56:48.132483",
     "status": "completed"
    },
    "tags": []
   },
   "source": [
    "# Predictive Modeling\n",
    "## Range_km - Real-world driving performance."
   ]
  },
  {
   "cell_type": "code",
   "execution_count": 23,
   "id": "7fe3c054",
   "metadata": {
    "execution": {
     "iopub.execute_input": "2025-08-19T20:56:48.264106Z",
     "iopub.status.busy": "2025-08-19T20:56:48.263789Z",
     "iopub.status.idle": "2025-08-19T20:56:48.282743Z",
     "shell.execute_reply": "2025-08-19T20:56:48.281769Z"
    },
    "papermill": {
     "duration": 0.125813,
     "end_time": "2025-08-19T20:56:48.284278",
     "exception": false,
     "start_time": "2025-08-19T20:56:48.158465",
     "status": "completed"
    },
    "tags": []
   },
   "outputs": [
    {
     "data": {
      "text/html": [
       "<div>\n",
       "<style scoped>\n",
       "    .dataframe tbody tr th:only-of-type {\n",
       "        vertical-align: middle;\n",
       "    }\n",
       "\n",
       "    .dataframe tbody tr th {\n",
       "        vertical-align: top;\n",
       "    }\n",
       "\n",
       "    .dataframe thead th {\n",
       "        text-align: right;\n",
       "    }\n",
       "</style>\n",
       "<table border=\"1\" class=\"dataframe\">\n",
       "  <thead>\n",
       "    <tr style=\"text-align: right;\">\n",
       "      <th></th>\n",
       "      <th>Manufacturer</th>\n",
       "      <th>Year</th>\n",
       "      <th>Battery_Type</th>\n",
       "      <th>Battery_Capacity_kWh</th>\n",
       "      <th>Range_km</th>\n",
       "      <th>Charging_Type</th>\n",
       "      <th>Charge_Time_hr</th>\n",
       "      <th>Price_USD</th>\n",
       "      <th>Country_of_Manufacture</th>\n",
       "      <th>Autonomous_Level</th>\n",
       "      <th>CO2_Emissions_g_per_km</th>\n",
       "      <th>Safety_Rating</th>\n",
       "      <th>Units_Sold_2024</th>\n",
       "      <th>Warranty_Years</th>\n",
       "      <th>Powertrain</th>\n",
       "      <th>efficiency_km_per_kWh</th>\n",
       "      <th>Range_per_charge_hour</th>\n",
       "    </tr>\n",
       "    <tr>\n",
       "      <th>Vehicle_ID</th>\n",
       "      <th></th>\n",
       "      <th></th>\n",
       "      <th></th>\n",
       "      <th></th>\n",
       "      <th></th>\n",
       "      <th></th>\n",
       "      <th></th>\n",
       "      <th></th>\n",
       "      <th></th>\n",
       "      <th></th>\n",
       "      <th></th>\n",
       "      <th></th>\n",
       "      <th></th>\n",
       "      <th></th>\n",
       "      <th></th>\n",
       "      <th></th>\n",
       "      <th></th>\n",
       "    </tr>\n",
       "  </thead>\n",
       "  <tbody>\n",
       "    <tr>\n",
       "      <th>1</th>\n",
       "      <td>Acura</td>\n",
       "      <td>2015</td>\n",
       "      <td>Lithium-titanate</td>\n",
       "      <td>55.8</td>\n",
       "      <td>214</td>\n",
       "      <td>CHAdeMO</td>\n",
       "      <td>9.0</td>\n",
       "      <td>111203.94</td>\n",
       "      <td>UK</td>\n",
       "      <td>0.0</td>\n",
       "      <td>0.0</td>\n",
       "      <td>5.0</td>\n",
       "      <td>19726</td>\n",
       "      <td>3</td>\n",
       "      <td>BEV</td>\n",
       "      <td>3.835125</td>\n",
       "      <td>23.777778</td>\n",
       "    </tr>\n",
       "    <tr>\n",
       "      <th>2</th>\n",
       "      <td>Lamborghini</td>\n",
       "      <td>2025</td>\n",
       "      <td>Lithium-titanate</td>\n",
       "      <td>90.8</td>\n",
       "      <td>212</td>\n",
       "      <td>Vehicle-to-Home (V2H)</td>\n",
       "      <td>7.3</td>\n",
       "      <td>127131.65</td>\n",
       "      <td>Netherlands</td>\n",
       "      <td>2.0</td>\n",
       "      <td>0.0</td>\n",
       "      <td>4.0</td>\n",
       "      <td>3349</td>\n",
       "      <td>3</td>\n",
       "      <td>BEV</td>\n",
       "      <td>2.334802</td>\n",
       "      <td>29.041096</td>\n",
       "    </tr>\n",
       "    <tr>\n",
       "      <th>3</th>\n",
       "      <td>NIO</td>\n",
       "      <td>2020</td>\n",
       "      <td>Calcium-ion</td>\n",
       "      <td>64.7</td>\n",
       "      <td>235</td>\n",
       "      <td>Level 2 Charging</td>\n",
       "      <td>8.9</td>\n",
       "      <td>94347.37</td>\n",
       "      <td>UK</td>\n",
       "      <td>5.0</td>\n",
       "      <td>0.0</td>\n",
       "      <td>5.0</td>\n",
       "      <td>6300</td>\n",
       "      <td>5</td>\n",
       "      <td>BEV</td>\n",
       "      <td>3.632148</td>\n",
       "      <td>26.404494</td>\n",
       "    </tr>\n",
       "  </tbody>\n",
       "</table>\n",
       "</div>"
      ],
      "text/plain": [
       "           Manufacturer  Year      Battery_Type  Battery_Capacity_kWh  \\\n",
       "Vehicle_ID                                                              \n",
       "1                 Acura  2015  Lithium-titanate                  55.8   \n",
       "2           Lamborghini  2025  Lithium-titanate                  90.8   \n",
       "3                   NIO  2020       Calcium-ion                  64.7   \n",
       "\n",
       "            Range_km          Charging_Type  Charge_Time_hr  Price_USD  \\\n",
       "Vehicle_ID                                                               \n",
       "1                214                CHAdeMO             9.0  111203.94   \n",
       "2                212  Vehicle-to-Home (V2H)             7.3  127131.65   \n",
       "3                235       Level 2 Charging             8.9   94347.37   \n",
       "\n",
       "           Country_of_Manufacture Autonomous_Level  CO2_Emissions_g_per_km  \\\n",
       "Vehicle_ID                                                                   \n",
       "1                              UK              0.0                     0.0   \n",
       "2                     Netherlands              2.0                     0.0   \n",
       "3                              UK              5.0                     0.0   \n",
       "\n",
       "           Safety_Rating  Units_Sold_2024  Warranty_Years Powertrain  \\\n",
       "Vehicle_ID                                                             \n",
       "1                    5.0            19726               3        BEV   \n",
       "2                    4.0             3349               3        BEV   \n",
       "3                    5.0             6300               5        BEV   \n",
       "\n",
       "            efficiency_km_per_kWh  Range_per_charge_hour  \n",
       "Vehicle_ID                                                \n",
       "1                        3.835125              23.777778  \n",
       "2                        2.334802              29.041096  \n",
       "3                        3.632148              26.404494  "
      ]
     },
     "execution_count": 23,
     "metadata": {},
     "output_type": "execute_result"
    }
   ],
   "source": [
    "df_clean = df.copy()\n",
    "df_clean = df_clean.drop(columns=['Model', 'Color'])\n",
    "df_clean.head(3)"
   ]
  },
  {
   "cell_type": "code",
   "execution_count": 24,
   "id": "61d4938a",
   "metadata": {
    "execution": {
     "iopub.execute_input": "2025-08-19T20:56:48.312951Z",
     "iopub.status.busy": "2025-08-19T20:56:48.312135Z",
     "iopub.status.idle": "2025-08-19T20:56:48.324879Z",
     "shell.execute_reply": "2025-08-19T20:56:48.323932Z"
    },
    "papermill": {
     "duration": 0.027969,
     "end_time": "2025-08-19T20:56:48.326339",
     "exception": false,
     "start_time": "2025-08-19T20:56:48.298370",
     "status": "completed"
    },
    "tags": []
   },
   "outputs": [
    {
     "data": {
      "text/html": [
       "<div>\n",
       "<style scoped>\n",
       "    .dataframe tbody tr th:only-of-type {\n",
       "        vertical-align: middle;\n",
       "    }\n",
       "\n",
       "    .dataframe tbody tr th {\n",
       "        vertical-align: top;\n",
       "    }\n",
       "\n",
       "    .dataframe thead th {\n",
       "        text-align: right;\n",
       "    }\n",
       "</style>\n",
       "<table border=\"1\" class=\"dataframe\">\n",
       "  <thead>\n",
       "    <tr style=\"text-align: right;\">\n",
       "      <th></th>\n",
       "      <th>Manufacturer_freq</th>\n",
       "    </tr>\n",
       "    <tr>\n",
       "      <th>Vehicle_ID</th>\n",
       "      <th></th>\n",
       "    </tr>\n",
       "  </thead>\n",
       "  <tbody>\n",
       "    <tr>\n",
       "      <th>1</th>\n",
       "      <td>55</td>\n",
       "    </tr>\n",
       "    <tr>\n",
       "      <th>2</th>\n",
       "      <td>62</td>\n",
       "    </tr>\n",
       "    <tr>\n",
       "      <th>3</th>\n",
       "      <td>55</td>\n",
       "    </tr>\n",
       "    <tr>\n",
       "      <th>4</th>\n",
       "      <td>60</td>\n",
       "    </tr>\n",
       "    <tr>\n",
       "      <th>5</th>\n",
       "      <td>55</td>\n",
       "    </tr>\n",
       "  </tbody>\n",
       "</table>\n",
       "</div>"
      ],
      "text/plain": [
       "            Manufacturer_freq\n",
       "Vehicle_ID                   \n",
       "1                          55\n",
       "2                          62\n",
       "3                          55\n",
       "4                          60\n",
       "5                          55"
      ]
     },
     "execution_count": 24,
     "metadata": {},
     "output_type": "execute_result"
    }
   ],
   "source": [
    "manufacturer_counts = df_clean['Manufacturer'].value_counts()\n",
    "df_clean['Manufacturer_freq'] = df_clean['Manufacturer'].map(manufacturer_counts)\n",
    "df_clean = df_clean.drop(columns=['Manufacturer'])\n",
    "df_clean[[\"Manufacturer_freq\"]].head()"
   ]
  },
  {
   "cell_type": "code",
   "execution_count": 25,
   "id": "8b98dba3",
   "metadata": {
    "execution": {
     "iopub.execute_input": "2025-08-19T20:56:48.355149Z",
     "iopub.status.busy": "2025-08-19T20:56:48.354162Z",
     "iopub.status.idle": "2025-08-19T20:56:48.366989Z",
     "shell.execute_reply": "2025-08-19T20:56:48.366232Z"
    },
    "papermill": {
     "duration": 0.028206,
     "end_time": "2025-08-19T20:56:48.368433",
     "exception": false,
     "start_time": "2025-08-19T20:56:48.340227",
     "status": "completed"
    },
    "tags": []
   },
   "outputs": [
    {
     "data": {
      "text/plain": [
       "(3022, 88)"
      ]
     },
     "execution_count": 25,
     "metadata": {},
     "output_type": "execute_result"
    }
   ],
   "source": [
    "cat_cols = ['Battery_Type', 'Charging_Type', 'Country_of_Manufacture',\n",
    "       'Autonomous_Level', 'Safety_Rating', 'Powertrain']\n",
    "\n",
    "df_encoded = pd.get_dummies(df_clean, columns=cat_cols, drop_first=True)\n",
    "df_encoded.shape"
   ]
  },
  {
   "cell_type": "code",
   "execution_count": 26,
   "id": "24bec69d",
   "metadata": {
    "execution": {
     "iopub.execute_input": "2025-08-19T20:56:48.396126Z",
     "iopub.status.busy": "2025-08-19T20:56:48.395054Z",
     "iopub.status.idle": "2025-08-19T20:56:48.423301Z",
     "shell.execute_reply": "2025-08-19T20:56:48.422303Z"
    },
    "papermill": {
     "duration": 0.043932,
     "end_time": "2025-08-19T20:56:48.425188",
     "exception": false,
     "start_time": "2025-08-19T20:56:48.381256",
     "status": "completed"
    },
    "tags": []
   },
   "outputs": [],
   "source": [
    "from sklearn.preprocessing import StandardScaler\n",
    "\n",
    "X_train, X_test, y_train, y_test = get_train_test(\"Range_km\", df_encoded)\n",
    "\n",
    "num_cols = ['Year', 'Battery_Capacity_kWh', 'Charge_Time_hr',\n",
    "       'Price_USD', 'CO2_Emissions_g_per_km', 'Units_Sold_2024',\n",
    "       'Warranty_Years', 'efficiency_km_per_kWh', 'Range_per_charge_hour',\n",
    "       'Manufacturer_freq']\n",
    "\n",
    "scaler = StandardScaler()\n",
    "X_train[num_cols] = scaler.fit_transform(X_train[num_cols])\n",
    "X_test[num_cols]  = scaler.transform(X_test[num_cols])"
   ]
  },
  {
   "cell_type": "code",
   "execution_count": 27,
   "id": "2029bf08",
   "metadata": {
    "execution": {
     "iopub.execute_input": "2025-08-19T20:56:48.455126Z",
     "iopub.status.busy": "2025-08-19T20:56:48.454138Z",
     "iopub.status.idle": "2025-08-19T20:56:48.602506Z",
     "shell.execute_reply": "2025-08-19T20:56:48.601030Z"
    },
    "papermill": {
     "duration": 0.166508,
     "end_time": "2025-08-19T20:56:48.606367",
     "exception": false,
     "start_time": "2025-08-19T20:56:48.439859",
     "status": "completed"
    },
    "tags": []
   },
   "outputs": [
    {
     "name": "stdout",
     "output_type": "stream",
     "text": [
      "RMSE: 92.41896791933526\n",
      "R²: 0.5774947890320068\n"
     ]
    }
   ],
   "source": [
    "from sklearn.linear_model import LinearRegression\n",
    "from sklearn.metrics import mean_squared_error, r2_score\n",
    "\n",
    "lin_reg = LinearRegression()\n",
    "lin_reg.fit(X_train, y_train)\n",
    "\n",
    "y_pred = lin_reg.predict(X_test)\n",
    "\n",
    "rmse = np.sqrt(mean_squared_error(y_test, y_pred))\n",
    "r2 = r2_score(y_test, y_pred)\n",
    "\n",
    "print(\"RMSE:\", rmse)\n",
    "print(\"R²:\", r2)"
   ]
  },
  {
   "cell_type": "code",
   "execution_count": 28,
   "id": "18b6978e",
   "metadata": {
    "execution": {
     "iopub.execute_input": "2025-08-19T20:56:48.651008Z",
     "iopub.status.busy": "2025-08-19T20:56:48.649910Z",
     "iopub.status.idle": "2025-08-19T20:56:49.827964Z",
     "shell.execute_reply": "2025-08-19T20:56:49.826681Z"
    },
    "papermill": {
     "duration": 1.201257,
     "end_time": "2025-08-19T20:56:49.829473",
     "exception": false,
     "start_time": "2025-08-19T20:56:48.628216",
     "status": "completed"
    },
    "tags": []
   },
   "outputs": [
    {
     "name": "stdout",
     "output_type": "stream",
     "text": [
      "SVR RMSE: 27.36738086207899\n",
      "SVR R²: 0.9629510150859176\n"
     ]
    }
   ],
   "source": [
    "from sklearn.svm import SVR\n",
    "svr = SVR(kernel='rbf', C=100, epsilon=0.1)\n",
    "svr.fit(X_train, y_train)\n",
    "\n",
    "y_pred_svr = svr.predict(X_test)\n",
    "\n",
    "rmse_svr = np.sqrt(mean_squared_error(y_test, y_pred_svr))\n",
    "r2_svr = r2_score(y_test, y_pred_svr)\n",
    "\n",
    "print(\"SVR RMSE:\", rmse_svr)\n",
    "print(\"SVR R²:\", r2_svr)"
   ]
  },
  {
   "cell_type": "markdown",
   "id": "53f24444",
   "metadata": {
    "papermill": {
     "duration": 0.012111,
     "end_time": "2025-08-19T20:56:49.854391",
     "exception": false,
     "start_time": "2025-08-19T20:56:49.842280",
     "status": "completed"
    },
    "tags": []
   },
   "source": [
    "# Conclusion\n",
    "In this notebook we explored the EV dataset, presented its key characteristics, and performed feature engineering by creating two new variables. We then built and evaluated two predictive models - Linear Regression and Support Vector Regression - to estimate driving range based on vehicle specifications.\n",
    "\n",
    "Thank you for reading!\n",
    "Feel free to check out my other notebooks and projects on my profile for more analyses and experiments."
   ]
  }
 ],
 "metadata": {
  "kaggle": {
   "accelerator": "none",
   "dataSources": [
    {
     "datasetId": 8085192,
     "sourceId": 12788297,
     "sourceType": "datasetVersion"
    }
   ],
   "dockerImageVersionId": 31089,
   "isGpuEnabled": false,
   "isInternetEnabled": true,
   "language": "python",
   "sourceType": "notebook"
  },
  "kernelspec": {
   "display_name": "Python 3",
   "language": "python",
   "name": "python3"
  },
  "language_info": {
   "codemirror_mode": {
    "name": "ipython",
    "version": 3
   },
   "file_extension": ".py",
   "mimetype": "text/x-python",
   "name": "python",
   "nbconvert_exporter": "python",
   "pygments_lexer": "ipython3",
   "version": "3.11.13"
  },
  "papermill": {
   "default_parameters": {},
   "duration": 14.941556,
   "end_time": "2025-08-19T20:56:50.788367",
   "environment_variables": {},
   "exception": null,
   "input_path": "__notebook__.ipynb",
   "output_path": "__notebook__.ipynb",
   "parameters": {},
   "start_time": "2025-08-19T20:56:35.846811",
   "version": "2.6.0"
  }
 },
 "nbformat": 4,
 "nbformat_minor": 5
}
